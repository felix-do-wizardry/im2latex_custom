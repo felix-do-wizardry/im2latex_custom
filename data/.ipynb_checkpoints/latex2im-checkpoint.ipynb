{
 "cells": [
  {
   "cell_type": "code",
   "execution_count": 16,
   "metadata": {},
   "outputs": [],
   "source": [
    "import os, requests\n",
    " \n",
    "def formula_as_file(formula, file):\n",
    "    formula = formula.replace('\\n', ' ')\n",
    "    r = requests.get( 'http://latex.codecogs.com/png.latex?\\dpi{{300}} {formula}'.format(formula=formula))\n",
    "#     print('http://latex.codecogs.com/gif.latex?%5Cdpi%7B300%7D%20%5Cbegin%7Bbmatrix%7D%202%20%26%200%20%5C%5C%200%20%26%202%20%5C%5C%20%5Cend%7Bbmatrix%7D')\n",
    "#     print(r.url)\n",
    "    f = open(file, 'wb')\n",
    "    f.write(r.content)\n",
    "    f.close()"
   ]
  },
  {
   "cell_type": "code",
   "execution_count": 42,
   "metadata": {
    "scrolled": true
   },
   "outputs": [],
   "source": [
    "filepath = 'vocab.txt'\n",
    "output_dirpath = 'data_vocab'\n",
    "formulas = []\n",
    "for i, line in enumerate(open(filepath)):\n",
    "    formulas.append(line.replace('\\n', ''))"
   ]
  },
  {
   "cell_type": "code",
   "execution_count": 22,
   "metadata": {},
   "outputs": [],
   "source": [
    "import sys\n",
    "def progressBar(value, endvalue, bar_length=20):\n",
    "    percent = float(value) / endvalue\n",
    "    arrow = '-' * int(round(percent * bar_length)-1) + '>'\n",
    "    spaces = ' ' * (bar_length - len(arrow))\n",
    "\n",
    "    sys.stdout.write(\"\\rPercent: [{0}] {1}%\".format(arrow + spaces, int(round(percent * 100))))\n",
    "    sys.stdout.flush()"
   ]
  },
  {
   "cell_type": "code",
   "execution_count": null,
   "metadata": {},
   "outputs": [],
   "source": [
    "for i, formula in enumerate(formulas):\n",
    "    try:\n",
    "        formula = formula.replace('\\n', ' ')\n",
    "        filepath_out = os.path.join(output_dirpath, str(i)+'.png')\n",
    "        formula_as_file(formula, filepath_out)\n",
    "        print('saved [{}] at <{}>'.format(formula, filepath_out))\n",
    "    except:\n",
    "        continue"
   ]
  },
  {
   "cell_type": "code",
   "execution_count": 45,
   "metadata": {},
   "outputs": [
    {
     "name": "stdout",
     "output_type": "stream",
     "text": [
      "[1] [2] [3] [4] [5] [6] [7] [8] [9] [:]]                                                            "
     ]
    }
   ],
   "source": [
    "sys.stdout.write(' ' * 100)\n",
    "sys.stdout.flush()\n",
    "for i in range(len(formulas[:20])):\n",
    "    formula = formulas[i]\n",
    "    filepath_out = os.path.join(output_dirpath, str(i)+'.png')\n",
    "    formula_as_file(formula, filepath_out)\n",
    "    sys.stdout.write('\\r' + ' '.join(\n",
    "        str(v.replace('\\n', '')).join(['[]', '  '][j > i])\n",
    "        for j, v in enumerate(formulas[i-5: i+5])\n",
    "    ))\n",
    "    sys.stdout.flush()"
   ]
  },
  {
   "cell_type": "code",
   "execution_count": 35,
   "metadata": {},
   "outputs": [
    {
     "data": {
      "text/plain": [
       "['!\\n', '\"\\n', '&\\n', \"'\\n\", '(\\n', ')\\n', '*\\n', '+\\n', ',\\n', '-\\n']"
      ]
     },
     "execution_count": 35,
     "metadata": {},
     "output_type": "execute_result"
    }
   ],
   "source": [
    "[v for j, v in enumerate(formulas[i-5: i+5])]"
   ]
  },
  {
   "cell_type": "code",
   "execution_count": null,
   "metadata": {},
   "outputs": [],
   "source": []
  }
 ],
 "metadata": {
  "kernelspec": {
   "display_name": "Python 3",
   "language": "python",
   "name": "python3"
  },
  "language_info": {
   "codemirror_mode": {
    "name": "ipython",
    "version": 3
   },
   "file_extension": ".py",
   "mimetype": "text/x-python",
   "name": "python",
   "nbconvert_exporter": "python",
   "pygments_lexer": "ipython3",
   "version": "3.6.6"
  }
 },
 "nbformat": 4,
 "nbformat_minor": 2
}
